{
  "nbformat": 4,
  "nbformat_minor": 0,
  "metadata": {
    "colab": {
      "provenance": [],
      "authorship_tag": "ABX9TyO94jPPlnwt5KIb4OUbBWNP",
      "include_colab_link": true
    },
    "kernelspec": {
      "name": "python3",
      "display_name": "Python 3"
    },
    "language_info": {
      "name": "python"
    },
    "widgets": {
      "application/vnd.jupyter.widget-state+json": {
        "8291f76676694ec9a226fd7458a43229": {
          "model_module": "@jupyter-widgets/controls",
          "model_name": "HBoxModel",
          "model_module_version": "1.5.0",
          "state": {
            "_dom_classes": [],
            "_model_module": "@jupyter-widgets/controls",
            "_model_module_version": "1.5.0",
            "_model_name": "HBoxModel",
            "_view_count": null,
            "_view_module": "@jupyter-widgets/controls",
            "_view_module_version": "1.5.0",
            "_view_name": "HBoxView",
            "box_style": "",
            "children": [
              "IPY_MODEL_92af600013d24e91b7ad2fffb839ad47",
              "IPY_MODEL_78b6d5c1f8ea4e89b96a209c4c0ae4c2",
              "IPY_MODEL_f26725567dc8458c9163eb79e540dfa9"
            ],
            "layout": "IPY_MODEL_7f5a0cea24bb4ad4a203951efb1142da"
          }
        },
        "92af600013d24e91b7ad2fffb839ad47": {
          "model_module": "@jupyter-widgets/controls",
          "model_name": "HTMLModel",
          "model_module_version": "1.5.0",
          "state": {
            "_dom_classes": [],
            "_model_module": "@jupyter-widgets/controls",
            "_model_module_version": "1.5.0",
            "_model_name": "HTMLModel",
            "_view_count": null,
            "_view_module": "@jupyter-widgets/controls",
            "_view_module_version": "1.5.0",
            "_view_name": "HTMLView",
            "description": "",
            "description_tooltip": null,
            "layout": "IPY_MODEL_36ae4f6e9780445ea0ac7ce85bfbb336",
            "placeholder": "​",
            "style": "IPY_MODEL_6cf9c50041294fa98f12109367f9c099",
            "value": "Downloading (…)lve/main/config.json: 100%"
          }
        },
        "78b6d5c1f8ea4e89b96a209c4c0ae4c2": {
          "model_module": "@jupyter-widgets/controls",
          "model_name": "FloatProgressModel",
          "model_module_version": "1.5.0",
          "state": {
            "_dom_classes": [],
            "_model_module": "@jupyter-widgets/controls",
            "_model_module_version": "1.5.0",
            "_model_name": "FloatProgressModel",
            "_view_count": null,
            "_view_module": "@jupyter-widgets/controls",
            "_view_module_version": "1.5.0",
            "_view_name": "ProgressView",
            "bar_style": "success",
            "description": "",
            "description_tooltip": null,
            "layout": "IPY_MODEL_cf6442bb88004926a4a66ccfd3326e94",
            "max": 1802,
            "min": 0,
            "orientation": "horizontal",
            "style": "IPY_MODEL_140b06fa71a541c08f95d241daf45f37",
            "value": 1802
          }
        },
        "f26725567dc8458c9163eb79e540dfa9": {
          "model_module": "@jupyter-widgets/controls",
          "model_name": "HTMLModel",
          "model_module_version": "1.5.0",
          "state": {
            "_dom_classes": [],
            "_model_module": "@jupyter-widgets/controls",
            "_model_module_version": "1.5.0",
            "_model_name": "HTMLModel",
            "_view_count": null,
            "_view_module": "@jupyter-widgets/controls",
            "_view_module_version": "1.5.0",
            "_view_name": "HTMLView",
            "description": "",
            "description_tooltip": null,
            "layout": "IPY_MODEL_4d0e44d8c20e419ebc6fc109fe88c8f0",
            "placeholder": "​",
            "style": "IPY_MODEL_cc2dc0baab724757ac8756f55cce31c1",
            "value": " 1.80k/1.80k [00:00&lt;00:00, 29.5kB/s]"
          }
        },
        "7f5a0cea24bb4ad4a203951efb1142da": {
          "model_module": "@jupyter-widgets/base",
          "model_name": "LayoutModel",
          "model_module_version": "1.2.0",
          "state": {
            "_model_module": "@jupyter-widgets/base",
            "_model_module_version": "1.2.0",
            "_model_name": "LayoutModel",
            "_view_count": null,
            "_view_module": "@jupyter-widgets/base",
            "_view_module_version": "1.2.0",
            "_view_name": "LayoutView",
            "align_content": null,
            "align_items": null,
            "align_self": null,
            "border": null,
            "bottom": null,
            "display": null,
            "flex": null,
            "flex_flow": null,
            "grid_area": null,
            "grid_auto_columns": null,
            "grid_auto_flow": null,
            "grid_auto_rows": null,
            "grid_column": null,
            "grid_gap": null,
            "grid_row": null,
            "grid_template_areas": null,
            "grid_template_columns": null,
            "grid_template_rows": null,
            "height": null,
            "justify_content": null,
            "justify_items": null,
            "left": null,
            "margin": null,
            "max_height": null,
            "max_width": null,
            "min_height": null,
            "min_width": null,
            "object_fit": null,
            "object_position": null,
            "order": null,
            "overflow": null,
            "overflow_x": null,
            "overflow_y": null,
            "padding": null,
            "right": null,
            "top": null,
            "visibility": null,
            "width": null
          }
        },
        "36ae4f6e9780445ea0ac7ce85bfbb336": {
          "model_module": "@jupyter-widgets/base",
          "model_name": "LayoutModel",
          "model_module_version": "1.2.0",
          "state": {
            "_model_module": "@jupyter-widgets/base",
            "_model_module_version": "1.2.0",
            "_model_name": "LayoutModel",
            "_view_count": null,
            "_view_module": "@jupyter-widgets/base",
            "_view_module_version": "1.2.0",
            "_view_name": "LayoutView",
            "align_content": null,
            "align_items": null,
            "align_self": null,
            "border": null,
            "bottom": null,
            "display": null,
            "flex": null,
            "flex_flow": null,
            "grid_area": null,
            "grid_auto_columns": null,
            "grid_auto_flow": null,
            "grid_auto_rows": null,
            "grid_column": null,
            "grid_gap": null,
            "grid_row": null,
            "grid_template_areas": null,
            "grid_template_columns": null,
            "grid_template_rows": null,
            "height": null,
            "justify_content": null,
            "justify_items": null,
            "left": null,
            "margin": null,
            "max_height": null,
            "max_width": null,
            "min_height": null,
            "min_width": null,
            "object_fit": null,
            "object_position": null,
            "order": null,
            "overflow": null,
            "overflow_x": null,
            "overflow_y": null,
            "padding": null,
            "right": null,
            "top": null,
            "visibility": null,
            "width": null
          }
        },
        "6cf9c50041294fa98f12109367f9c099": {
          "model_module": "@jupyter-widgets/controls",
          "model_name": "DescriptionStyleModel",
          "model_module_version": "1.5.0",
          "state": {
            "_model_module": "@jupyter-widgets/controls",
            "_model_module_version": "1.5.0",
            "_model_name": "DescriptionStyleModel",
            "_view_count": null,
            "_view_module": "@jupyter-widgets/base",
            "_view_module_version": "1.2.0",
            "_view_name": "StyleView",
            "description_width": ""
          }
        },
        "cf6442bb88004926a4a66ccfd3326e94": {
          "model_module": "@jupyter-widgets/base",
          "model_name": "LayoutModel",
          "model_module_version": "1.2.0",
          "state": {
            "_model_module": "@jupyter-widgets/base",
            "_model_module_version": "1.2.0",
            "_model_name": "LayoutModel",
            "_view_count": null,
            "_view_module": "@jupyter-widgets/base",
            "_view_module_version": "1.2.0",
            "_view_name": "LayoutView",
            "align_content": null,
            "align_items": null,
            "align_self": null,
            "border": null,
            "bottom": null,
            "display": null,
            "flex": null,
            "flex_flow": null,
            "grid_area": null,
            "grid_auto_columns": null,
            "grid_auto_flow": null,
            "grid_auto_rows": null,
            "grid_column": null,
            "grid_gap": null,
            "grid_row": null,
            "grid_template_areas": null,
            "grid_template_columns": null,
            "grid_template_rows": null,
            "height": null,
            "justify_content": null,
            "justify_items": null,
            "left": null,
            "margin": null,
            "max_height": null,
            "max_width": null,
            "min_height": null,
            "min_width": null,
            "object_fit": null,
            "object_position": null,
            "order": null,
            "overflow": null,
            "overflow_x": null,
            "overflow_y": null,
            "padding": null,
            "right": null,
            "top": null,
            "visibility": null,
            "width": null
          }
        },
        "140b06fa71a541c08f95d241daf45f37": {
          "model_module": "@jupyter-widgets/controls",
          "model_name": "ProgressStyleModel",
          "model_module_version": "1.5.0",
          "state": {
            "_model_module": "@jupyter-widgets/controls",
            "_model_module_version": "1.5.0",
            "_model_name": "ProgressStyleModel",
            "_view_count": null,
            "_view_module": "@jupyter-widgets/base",
            "_view_module_version": "1.2.0",
            "_view_name": "StyleView",
            "bar_color": null,
            "description_width": ""
          }
        },
        "4d0e44d8c20e419ebc6fc109fe88c8f0": {
          "model_module": "@jupyter-widgets/base",
          "model_name": "LayoutModel",
          "model_module_version": "1.2.0",
          "state": {
            "_model_module": "@jupyter-widgets/base",
            "_model_module_version": "1.2.0",
            "_model_name": "LayoutModel",
            "_view_count": null,
            "_view_module": "@jupyter-widgets/base",
            "_view_module_version": "1.2.0",
            "_view_name": "LayoutView",
            "align_content": null,
            "align_items": null,
            "align_self": null,
            "border": null,
            "bottom": null,
            "display": null,
            "flex": null,
            "flex_flow": null,
            "grid_area": null,
            "grid_auto_columns": null,
            "grid_auto_flow": null,
            "grid_auto_rows": null,
            "grid_column": null,
            "grid_gap": null,
            "grid_row": null,
            "grid_template_areas": null,
            "grid_template_columns": null,
            "grid_template_rows": null,
            "height": null,
            "justify_content": null,
            "justify_items": null,
            "left": null,
            "margin": null,
            "max_height": null,
            "max_width": null,
            "min_height": null,
            "min_width": null,
            "object_fit": null,
            "object_position": null,
            "order": null,
            "overflow": null,
            "overflow_x": null,
            "overflow_y": null,
            "padding": null,
            "right": null,
            "top": null,
            "visibility": null,
            "width": null
          }
        },
        "cc2dc0baab724757ac8756f55cce31c1": {
          "model_module": "@jupyter-widgets/controls",
          "model_name": "DescriptionStyleModel",
          "model_module_version": "1.5.0",
          "state": {
            "_model_module": "@jupyter-widgets/controls",
            "_model_module_version": "1.5.0",
            "_model_name": "DescriptionStyleModel",
            "_view_count": null,
            "_view_module": "@jupyter-widgets/base",
            "_view_module_version": "1.2.0",
            "_view_name": "StyleView",
            "description_width": ""
          }
        },
        "d8e3d9bd6e524785ab0119a4dcc2c71f": {
          "model_module": "@jupyter-widgets/controls",
          "model_name": "HBoxModel",
          "model_module_version": "1.5.0",
          "state": {
            "_dom_classes": [],
            "_model_module": "@jupyter-widgets/controls",
            "_model_module_version": "1.5.0",
            "_model_name": "HBoxModel",
            "_view_count": null,
            "_view_module": "@jupyter-widgets/controls",
            "_view_module_version": "1.5.0",
            "_view_name": "HBoxView",
            "box_style": "",
            "children": [
              "IPY_MODEL_3907d469e4c149f8bf25330ea7bed1a6",
              "IPY_MODEL_7b926f77cf504388ad63b2178398d605",
              "IPY_MODEL_77c5d8a78fe04da39ffa48c43b8e51bc"
            ],
            "layout": "IPY_MODEL_dbd0fe0206c0472ab4c191b2d8f303a4"
          }
        },
        "3907d469e4c149f8bf25330ea7bed1a6": {
          "model_module": "@jupyter-widgets/controls",
          "model_name": "HTMLModel",
          "model_module_version": "1.5.0",
          "state": {
            "_dom_classes": [],
            "_model_module": "@jupyter-widgets/controls",
            "_model_module_version": "1.5.0",
            "_model_name": "HTMLModel",
            "_view_count": null,
            "_view_module": "@jupyter-widgets/controls",
            "_view_module_version": "1.5.0",
            "_view_name": "HTMLView",
            "description": "",
            "description_tooltip": null,
            "layout": "IPY_MODEL_3336fc92fc2d4177a904d2654e01e270",
            "placeholder": "​",
            "style": "IPY_MODEL_96fc9a7958674648b5975cb5234106e2",
            "value": "Downloading pytorch_model.bin: 100%"
          }
        },
        "7b926f77cf504388ad63b2178398d605": {
          "model_module": "@jupyter-widgets/controls",
          "model_name": "FloatProgressModel",
          "model_module_version": "1.5.0",
          "state": {
            "_dom_classes": [],
            "_model_module": "@jupyter-widgets/controls",
            "_model_module_version": "1.5.0",
            "_model_name": "FloatProgressModel",
            "_view_count": null,
            "_view_module": "@jupyter-widgets/controls",
            "_view_module_version": "1.5.0",
            "_view_name": "ProgressView",
            "bar_style": "success",
            "description": "",
            "description_tooltip": null,
            "layout": "IPY_MODEL_7dfb526778a349ad8a55de7c641d6d4a",
            "max": 1222317369,
            "min": 0,
            "orientation": "horizontal",
            "style": "IPY_MODEL_c6b211b491a04cc19a7f7252e036229b",
            "value": 1222317369
          }
        },
        "77c5d8a78fe04da39ffa48c43b8e51bc": {
          "model_module": "@jupyter-widgets/controls",
          "model_name": "HTMLModel",
          "model_module_version": "1.5.0",
          "state": {
            "_dom_classes": [],
            "_model_module": "@jupyter-widgets/controls",
            "_model_module_version": "1.5.0",
            "_model_name": "HTMLModel",
            "_view_count": null,
            "_view_module": "@jupyter-widgets/controls",
            "_view_module_version": "1.5.0",
            "_view_name": "HTMLView",
            "description": "",
            "description_tooltip": null,
            "layout": "IPY_MODEL_5269286c1cc74c9b9772451718461eb7",
            "placeholder": "​",
            "style": "IPY_MODEL_edd69eec2ee24e158392d7797de6a1a1",
            "value": " 1.22G/1.22G [00:14&lt;00:00, 71.3MB/s]"
          }
        },
        "dbd0fe0206c0472ab4c191b2d8f303a4": {
          "model_module": "@jupyter-widgets/base",
          "model_name": "LayoutModel",
          "model_module_version": "1.2.0",
          "state": {
            "_model_module": "@jupyter-widgets/base",
            "_model_module_version": "1.2.0",
            "_model_name": "LayoutModel",
            "_view_count": null,
            "_view_module": "@jupyter-widgets/base",
            "_view_module_version": "1.2.0",
            "_view_name": "LayoutView",
            "align_content": null,
            "align_items": null,
            "align_self": null,
            "border": null,
            "bottom": null,
            "display": null,
            "flex": null,
            "flex_flow": null,
            "grid_area": null,
            "grid_auto_columns": null,
            "grid_auto_flow": null,
            "grid_auto_rows": null,
            "grid_column": null,
            "grid_gap": null,
            "grid_row": null,
            "grid_template_areas": null,
            "grid_template_columns": null,
            "grid_template_rows": null,
            "height": null,
            "justify_content": null,
            "justify_items": null,
            "left": null,
            "margin": null,
            "max_height": null,
            "max_width": null,
            "min_height": null,
            "min_width": null,
            "object_fit": null,
            "object_position": null,
            "order": null,
            "overflow": null,
            "overflow_x": null,
            "overflow_y": null,
            "padding": null,
            "right": null,
            "top": null,
            "visibility": null,
            "width": null
          }
        },
        "3336fc92fc2d4177a904d2654e01e270": {
          "model_module": "@jupyter-widgets/base",
          "model_name": "LayoutModel",
          "model_module_version": "1.2.0",
          "state": {
            "_model_module": "@jupyter-widgets/base",
            "_model_module_version": "1.2.0",
            "_model_name": "LayoutModel",
            "_view_count": null,
            "_view_module": "@jupyter-widgets/base",
            "_view_module_version": "1.2.0",
            "_view_name": "LayoutView",
            "align_content": null,
            "align_items": null,
            "align_self": null,
            "border": null,
            "bottom": null,
            "display": null,
            "flex": null,
            "flex_flow": null,
            "grid_area": null,
            "grid_auto_columns": null,
            "grid_auto_flow": null,
            "grid_auto_rows": null,
            "grid_column": null,
            "grid_gap": null,
            "grid_row": null,
            "grid_template_areas": null,
            "grid_template_columns": null,
            "grid_template_rows": null,
            "height": null,
            "justify_content": null,
            "justify_items": null,
            "left": null,
            "margin": null,
            "max_height": null,
            "max_width": null,
            "min_height": null,
            "min_width": null,
            "object_fit": null,
            "object_position": null,
            "order": null,
            "overflow": null,
            "overflow_x": null,
            "overflow_y": null,
            "padding": null,
            "right": null,
            "top": null,
            "visibility": null,
            "width": null
          }
        },
        "96fc9a7958674648b5975cb5234106e2": {
          "model_module": "@jupyter-widgets/controls",
          "model_name": "DescriptionStyleModel",
          "model_module_version": "1.5.0",
          "state": {
            "_model_module": "@jupyter-widgets/controls",
            "_model_module_version": "1.5.0",
            "_model_name": "DescriptionStyleModel",
            "_view_count": null,
            "_view_module": "@jupyter-widgets/base",
            "_view_module_version": "1.2.0",
            "_view_name": "StyleView",
            "description_width": ""
          }
        },
        "7dfb526778a349ad8a55de7c641d6d4a": {
          "model_module": "@jupyter-widgets/base",
          "model_name": "LayoutModel",
          "model_module_version": "1.2.0",
          "state": {
            "_model_module": "@jupyter-widgets/base",
            "_model_module_version": "1.2.0",
            "_model_name": "LayoutModel",
            "_view_count": null,
            "_view_module": "@jupyter-widgets/base",
            "_view_module_version": "1.2.0",
            "_view_name": "LayoutView",
            "align_content": null,
            "align_items": null,
            "align_self": null,
            "border": null,
            "bottom": null,
            "display": null,
            "flex": null,
            "flex_flow": null,
            "grid_area": null,
            "grid_auto_columns": null,
            "grid_auto_flow": null,
            "grid_auto_rows": null,
            "grid_column": null,
            "grid_gap": null,
            "grid_row": null,
            "grid_template_areas": null,
            "grid_template_columns": null,
            "grid_template_rows": null,
            "height": null,
            "justify_content": null,
            "justify_items": null,
            "left": null,
            "margin": null,
            "max_height": null,
            "max_width": null,
            "min_height": null,
            "min_width": null,
            "object_fit": null,
            "object_position": null,
            "order": null,
            "overflow": null,
            "overflow_x": null,
            "overflow_y": null,
            "padding": null,
            "right": null,
            "top": null,
            "visibility": null,
            "width": null
          }
        },
        "c6b211b491a04cc19a7f7252e036229b": {
          "model_module": "@jupyter-widgets/controls",
          "model_name": "ProgressStyleModel",
          "model_module_version": "1.5.0",
          "state": {
            "_model_module": "@jupyter-widgets/controls",
            "_model_module_version": "1.5.0",
            "_model_name": "ProgressStyleModel",
            "_view_count": null,
            "_view_module": "@jupyter-widgets/base",
            "_view_module_version": "1.2.0",
            "_view_name": "StyleView",
            "bar_color": null,
            "description_width": ""
          }
        },
        "5269286c1cc74c9b9772451718461eb7": {
          "model_module": "@jupyter-widgets/base",
          "model_name": "LayoutModel",
          "model_module_version": "1.2.0",
          "state": {
            "_model_module": "@jupyter-widgets/base",
            "_model_module_version": "1.2.0",
            "_model_name": "LayoutModel",
            "_view_count": null,
            "_view_module": "@jupyter-widgets/base",
            "_view_module_version": "1.2.0",
            "_view_name": "LayoutView",
            "align_content": null,
            "align_items": null,
            "align_self": null,
            "border": null,
            "bottom": null,
            "display": null,
            "flex": null,
            "flex_flow": null,
            "grid_area": null,
            "grid_auto_columns": null,
            "grid_auto_flow": null,
            "grid_auto_rows": null,
            "grid_column": null,
            "grid_gap": null,
            "grid_row": null,
            "grid_template_areas": null,
            "grid_template_columns": null,
            "grid_template_rows": null,
            "height": null,
            "justify_content": null,
            "justify_items": null,
            "left": null,
            "margin": null,
            "max_height": null,
            "max_width": null,
            "min_height": null,
            "min_width": null,
            "object_fit": null,
            "object_position": null,
            "order": null,
            "overflow": null,
            "overflow_x": null,
            "overflow_y": null,
            "padding": null,
            "right": null,
            "top": null,
            "visibility": null,
            "width": null
          }
        },
        "edd69eec2ee24e158392d7797de6a1a1": {
          "model_module": "@jupyter-widgets/controls",
          "model_name": "DescriptionStyleModel",
          "model_module_version": "1.5.0",
          "state": {
            "_model_module": "@jupyter-widgets/controls",
            "_model_module_version": "1.5.0",
            "_model_name": "DescriptionStyleModel",
            "_view_count": null,
            "_view_module": "@jupyter-widgets/base",
            "_view_module_version": "1.2.0",
            "_view_name": "StyleView",
            "description_width": ""
          }
        },
        "f9bd22eb80c8406687a35152fd33e8ed": {
          "model_module": "@jupyter-widgets/controls",
          "model_name": "HBoxModel",
          "model_module_version": "1.5.0",
          "state": {
            "_dom_classes": [],
            "_model_module": "@jupyter-widgets/controls",
            "_model_module_version": "1.5.0",
            "_model_name": "HBoxModel",
            "_view_count": null,
            "_view_module": "@jupyter-widgets/controls",
            "_view_module_version": "1.5.0",
            "_view_name": "HBoxView",
            "box_style": "",
            "children": [
              "IPY_MODEL_e17b9bd5816d4e38a481f04e2b41cc0b",
              "IPY_MODEL_94a21b3652f44a3483ad5c37d29d6c3f",
              "IPY_MODEL_50dbfe3303454a1a8f35488fe43e835b"
            ],
            "layout": "IPY_MODEL_7339f639c1264afa99795d6f5848e682"
          }
        },
        "e17b9bd5816d4e38a481f04e2b41cc0b": {
          "model_module": "@jupyter-widgets/controls",
          "model_name": "HTMLModel",
          "model_module_version": "1.5.0",
          "state": {
            "_dom_classes": [],
            "_model_module": "@jupyter-widgets/controls",
            "_model_module_version": "1.5.0",
            "_model_name": "HTMLModel",
            "_view_count": null,
            "_view_module": "@jupyter-widgets/controls",
            "_view_module_version": "1.5.0",
            "_view_name": "HTMLView",
            "description": "",
            "description_tooltip": null,
            "layout": "IPY_MODEL_fede757743fb4c52a8d224c7b215409a",
            "placeholder": "​",
            "style": "IPY_MODEL_89595bf9a6fa4e048ebdd6604368aeb6",
            "value": "Downloading (…)okenizer_config.json: 100%"
          }
        },
        "94a21b3652f44a3483ad5c37d29d6c3f": {
          "model_module": "@jupyter-widgets/controls",
          "model_name": "FloatProgressModel",
          "model_module_version": "1.5.0",
          "state": {
            "_dom_classes": [],
            "_model_module": "@jupyter-widgets/controls",
            "_model_module_version": "1.5.0",
            "_model_name": "FloatProgressModel",
            "_view_count": null,
            "_view_module": "@jupyter-widgets/controls",
            "_view_module_version": "1.5.0",
            "_view_name": "ProgressView",
            "bar_style": "success",
            "description": "",
            "description_tooltip": null,
            "layout": "IPY_MODEL_568d7f0cfe6449c8b50be2bcef5475cd",
            "max": 26,
            "min": 0,
            "orientation": "horizontal",
            "style": "IPY_MODEL_2137ccba5e1b47b4afdaa4fb342f07ee",
            "value": 26
          }
        },
        "50dbfe3303454a1a8f35488fe43e835b": {
          "model_module": "@jupyter-widgets/controls",
          "model_name": "HTMLModel",
          "model_module_version": "1.5.0",
          "state": {
            "_dom_classes": [],
            "_model_module": "@jupyter-widgets/controls",
            "_model_module_version": "1.5.0",
            "_model_name": "HTMLModel",
            "_view_count": null,
            "_view_module": "@jupyter-widgets/controls",
            "_view_module_version": "1.5.0",
            "_view_name": "HTMLView",
            "description": "",
            "description_tooltip": null,
            "layout": "IPY_MODEL_c4d942c2f686418dad26066145c102ba",
            "placeholder": "​",
            "style": "IPY_MODEL_c994797937634f9fa6acbeea32a7333b",
            "value": " 26.0/26.0 [00:00&lt;00:00, 1.50kB/s]"
          }
        },
        "7339f639c1264afa99795d6f5848e682": {
          "model_module": "@jupyter-widgets/base",
          "model_name": "LayoutModel",
          "model_module_version": "1.2.0",
          "state": {
            "_model_module": "@jupyter-widgets/base",
            "_model_module_version": "1.2.0",
            "_model_name": "LayoutModel",
            "_view_count": null,
            "_view_module": "@jupyter-widgets/base",
            "_view_module_version": "1.2.0",
            "_view_name": "LayoutView",
            "align_content": null,
            "align_items": null,
            "align_self": null,
            "border": null,
            "bottom": null,
            "display": null,
            "flex": null,
            "flex_flow": null,
            "grid_area": null,
            "grid_auto_columns": null,
            "grid_auto_flow": null,
            "grid_auto_rows": null,
            "grid_column": null,
            "grid_gap": null,
            "grid_row": null,
            "grid_template_areas": null,
            "grid_template_columns": null,
            "grid_template_rows": null,
            "height": null,
            "justify_content": null,
            "justify_items": null,
            "left": null,
            "margin": null,
            "max_height": null,
            "max_width": null,
            "min_height": null,
            "min_width": null,
            "object_fit": null,
            "object_position": null,
            "order": null,
            "overflow": null,
            "overflow_x": null,
            "overflow_y": null,
            "padding": null,
            "right": null,
            "top": null,
            "visibility": null,
            "width": null
          }
        },
        "fede757743fb4c52a8d224c7b215409a": {
          "model_module": "@jupyter-widgets/base",
          "model_name": "LayoutModel",
          "model_module_version": "1.2.0",
          "state": {
            "_model_module": "@jupyter-widgets/base",
            "_model_module_version": "1.2.0",
            "_model_name": "LayoutModel",
            "_view_count": null,
            "_view_module": "@jupyter-widgets/base",
            "_view_module_version": "1.2.0",
            "_view_name": "LayoutView",
            "align_content": null,
            "align_items": null,
            "align_self": null,
            "border": null,
            "bottom": null,
            "display": null,
            "flex": null,
            "flex_flow": null,
            "grid_area": null,
            "grid_auto_columns": null,
            "grid_auto_flow": null,
            "grid_auto_rows": null,
            "grid_column": null,
            "grid_gap": null,
            "grid_row": null,
            "grid_template_areas": null,
            "grid_template_columns": null,
            "grid_template_rows": null,
            "height": null,
            "justify_content": null,
            "justify_items": null,
            "left": null,
            "margin": null,
            "max_height": null,
            "max_width": null,
            "min_height": null,
            "min_width": null,
            "object_fit": null,
            "object_position": null,
            "order": null,
            "overflow": null,
            "overflow_x": null,
            "overflow_y": null,
            "padding": null,
            "right": null,
            "top": null,
            "visibility": null,
            "width": null
          }
        },
        "89595bf9a6fa4e048ebdd6604368aeb6": {
          "model_module": "@jupyter-widgets/controls",
          "model_name": "DescriptionStyleModel",
          "model_module_version": "1.5.0",
          "state": {
            "_model_module": "@jupyter-widgets/controls",
            "_model_module_version": "1.5.0",
            "_model_name": "DescriptionStyleModel",
            "_view_count": null,
            "_view_module": "@jupyter-widgets/base",
            "_view_module_version": "1.2.0",
            "_view_name": "StyleView",
            "description_width": ""
          }
        },
        "568d7f0cfe6449c8b50be2bcef5475cd": {
          "model_module": "@jupyter-widgets/base",
          "model_name": "LayoutModel",
          "model_module_version": "1.2.0",
          "state": {
            "_model_module": "@jupyter-widgets/base",
            "_model_module_version": "1.2.0",
            "_model_name": "LayoutModel",
            "_view_count": null,
            "_view_module": "@jupyter-widgets/base",
            "_view_module_version": "1.2.0",
            "_view_name": "LayoutView",
            "align_content": null,
            "align_items": null,
            "align_self": null,
            "border": null,
            "bottom": null,
            "display": null,
            "flex": null,
            "flex_flow": null,
            "grid_area": null,
            "grid_auto_columns": null,
            "grid_auto_flow": null,
            "grid_auto_rows": null,
            "grid_column": null,
            "grid_gap": null,
            "grid_row": null,
            "grid_template_areas": null,
            "grid_template_columns": null,
            "grid_template_rows": null,
            "height": null,
            "justify_content": null,
            "justify_items": null,
            "left": null,
            "margin": null,
            "max_height": null,
            "max_width": null,
            "min_height": null,
            "min_width": null,
            "object_fit": null,
            "object_position": null,
            "order": null,
            "overflow": null,
            "overflow_x": null,
            "overflow_y": null,
            "padding": null,
            "right": null,
            "top": null,
            "visibility": null,
            "width": null
          }
        },
        "2137ccba5e1b47b4afdaa4fb342f07ee": {
          "model_module": "@jupyter-widgets/controls",
          "model_name": "ProgressStyleModel",
          "model_module_version": "1.5.0",
          "state": {
            "_model_module": "@jupyter-widgets/controls",
            "_model_module_version": "1.5.0",
            "_model_name": "ProgressStyleModel",
            "_view_count": null,
            "_view_module": "@jupyter-widgets/base",
            "_view_module_version": "1.2.0",
            "_view_name": "StyleView",
            "bar_color": null,
            "description_width": ""
          }
        },
        "c4d942c2f686418dad26066145c102ba": {
          "model_module": "@jupyter-widgets/base",
          "model_name": "LayoutModel",
          "model_module_version": "1.2.0",
          "state": {
            "_model_module": "@jupyter-widgets/base",
            "_model_module_version": "1.2.0",
            "_model_name": "LayoutModel",
            "_view_count": null,
            "_view_module": "@jupyter-widgets/base",
            "_view_module_version": "1.2.0",
            "_view_name": "LayoutView",
            "align_content": null,
            "align_items": null,
            "align_self": null,
            "border": null,
            "bottom": null,
            "display": null,
            "flex": null,
            "flex_flow": null,
            "grid_area": null,
            "grid_auto_columns": null,
            "grid_auto_flow": null,
            "grid_auto_rows": null,
            "grid_column": null,
            "grid_gap": null,
            "grid_row": null,
            "grid_template_areas": null,
            "grid_template_columns": null,
            "grid_template_rows": null,
            "height": null,
            "justify_content": null,
            "justify_items": null,
            "left": null,
            "margin": null,
            "max_height": null,
            "max_width": null,
            "min_height": null,
            "min_width": null,
            "object_fit": null,
            "object_position": null,
            "order": null,
            "overflow": null,
            "overflow_x": null,
            "overflow_y": null,
            "padding": null,
            "right": null,
            "top": null,
            "visibility": null,
            "width": null
          }
        },
        "c994797937634f9fa6acbeea32a7333b": {
          "model_module": "@jupyter-widgets/controls",
          "model_name": "DescriptionStyleModel",
          "model_module_version": "1.5.0",
          "state": {
            "_model_module": "@jupyter-widgets/controls",
            "_model_module_version": "1.5.0",
            "_model_name": "DescriptionStyleModel",
            "_view_count": null,
            "_view_module": "@jupyter-widgets/base",
            "_view_module_version": "1.2.0",
            "_view_name": "StyleView",
            "description_width": ""
          }
        },
        "06673025a3be4591806afe0dad4099ed": {
          "model_module": "@jupyter-widgets/controls",
          "model_name": "HBoxModel",
          "model_module_version": "1.5.0",
          "state": {
            "_dom_classes": [],
            "_model_module": "@jupyter-widgets/controls",
            "_model_module_version": "1.5.0",
            "_model_name": "HBoxModel",
            "_view_count": null,
            "_view_module": "@jupyter-widgets/controls",
            "_view_module_version": "1.5.0",
            "_view_name": "HBoxView",
            "box_style": "",
            "children": [
              "IPY_MODEL_56c27b3689ab40a09a2ece580b3c406f",
              "IPY_MODEL_effe1e6ea865467db62f98c90ade5624",
              "IPY_MODEL_a194de10fa284c06b2e02b9d68c25c19"
            ],
            "layout": "IPY_MODEL_1863846557a048d6b33ceda80a309567"
          }
        },
        "56c27b3689ab40a09a2ece580b3c406f": {
          "model_module": "@jupyter-widgets/controls",
          "model_name": "HTMLModel",
          "model_module_version": "1.5.0",
          "state": {
            "_dom_classes": [],
            "_model_module": "@jupyter-widgets/controls",
            "_model_module_version": "1.5.0",
            "_model_name": "HTMLModel",
            "_view_count": null,
            "_view_module": "@jupyter-widgets/controls",
            "_view_module_version": "1.5.0",
            "_view_name": "HTMLView",
            "description": "",
            "description_tooltip": null,
            "layout": "IPY_MODEL_dec66a7121804c75998415560f83acc5",
            "placeholder": "​",
            "style": "IPY_MODEL_bbe70e011c70408a89aff493409579b6",
            "value": "Downloading (…)olve/main/vocab.json: 100%"
          }
        },
        "effe1e6ea865467db62f98c90ade5624": {
          "model_module": "@jupyter-widgets/controls",
          "model_name": "FloatProgressModel",
          "model_module_version": "1.5.0",
          "state": {
            "_dom_classes": [],
            "_model_module": "@jupyter-widgets/controls",
            "_model_module_version": "1.5.0",
            "_model_name": "FloatProgressModel",
            "_view_count": null,
            "_view_module": "@jupyter-widgets/controls",
            "_view_module_version": "1.5.0",
            "_view_name": "ProgressView",
            "bar_style": "success",
            "description": "",
            "description_tooltip": null,
            "layout": "IPY_MODEL_d67f1831c4584e9e89cfd418c9fa527c",
            "max": 898822,
            "min": 0,
            "orientation": "horizontal",
            "style": "IPY_MODEL_0606bc232c57470191549a50ffc521c1",
            "value": 898822
          }
        },
        "a194de10fa284c06b2e02b9d68c25c19": {
          "model_module": "@jupyter-widgets/controls",
          "model_name": "HTMLModel",
          "model_module_version": "1.5.0",
          "state": {
            "_dom_classes": [],
            "_model_module": "@jupyter-widgets/controls",
            "_model_module_version": "1.5.0",
            "_model_name": "HTMLModel",
            "_view_count": null,
            "_view_module": "@jupyter-widgets/controls",
            "_view_module_version": "1.5.0",
            "_view_name": "HTMLView",
            "description": "",
            "description_tooltip": null,
            "layout": "IPY_MODEL_75ac48b4b8c04dcbb69cf4376a959880",
            "placeholder": "​",
            "style": "IPY_MODEL_dbb1c39cefba448995a31fb1aa62e40c",
            "value": " 899k/899k [00:00&lt;00:00, 7.61MB/s]"
          }
        },
        "1863846557a048d6b33ceda80a309567": {
          "model_module": "@jupyter-widgets/base",
          "model_name": "LayoutModel",
          "model_module_version": "1.2.0",
          "state": {
            "_model_module": "@jupyter-widgets/base",
            "_model_module_version": "1.2.0",
            "_model_name": "LayoutModel",
            "_view_count": null,
            "_view_module": "@jupyter-widgets/base",
            "_view_module_version": "1.2.0",
            "_view_name": "LayoutView",
            "align_content": null,
            "align_items": null,
            "align_self": null,
            "border": null,
            "bottom": null,
            "display": null,
            "flex": null,
            "flex_flow": null,
            "grid_area": null,
            "grid_auto_columns": null,
            "grid_auto_flow": null,
            "grid_auto_rows": null,
            "grid_column": null,
            "grid_gap": null,
            "grid_row": null,
            "grid_template_areas": null,
            "grid_template_columns": null,
            "grid_template_rows": null,
            "height": null,
            "justify_content": null,
            "justify_items": null,
            "left": null,
            "margin": null,
            "max_height": null,
            "max_width": null,
            "min_height": null,
            "min_width": null,
            "object_fit": null,
            "object_position": null,
            "order": null,
            "overflow": null,
            "overflow_x": null,
            "overflow_y": null,
            "padding": null,
            "right": null,
            "top": null,
            "visibility": null,
            "width": null
          }
        },
        "dec66a7121804c75998415560f83acc5": {
          "model_module": "@jupyter-widgets/base",
          "model_name": "LayoutModel",
          "model_module_version": "1.2.0",
          "state": {
            "_model_module": "@jupyter-widgets/base",
            "_model_module_version": "1.2.0",
            "_model_name": "LayoutModel",
            "_view_count": null,
            "_view_module": "@jupyter-widgets/base",
            "_view_module_version": "1.2.0",
            "_view_name": "LayoutView",
            "align_content": null,
            "align_items": null,
            "align_self": null,
            "border": null,
            "bottom": null,
            "display": null,
            "flex": null,
            "flex_flow": null,
            "grid_area": null,
            "grid_auto_columns": null,
            "grid_auto_flow": null,
            "grid_auto_rows": null,
            "grid_column": null,
            "grid_gap": null,
            "grid_row": null,
            "grid_template_areas": null,
            "grid_template_columns": null,
            "grid_template_rows": null,
            "height": null,
            "justify_content": null,
            "justify_items": null,
            "left": null,
            "margin": null,
            "max_height": null,
            "max_width": null,
            "min_height": null,
            "min_width": null,
            "object_fit": null,
            "object_position": null,
            "order": null,
            "overflow": null,
            "overflow_x": null,
            "overflow_y": null,
            "padding": null,
            "right": null,
            "top": null,
            "visibility": null,
            "width": null
          }
        },
        "bbe70e011c70408a89aff493409579b6": {
          "model_module": "@jupyter-widgets/controls",
          "model_name": "DescriptionStyleModel",
          "model_module_version": "1.5.0",
          "state": {
            "_model_module": "@jupyter-widgets/controls",
            "_model_module_version": "1.5.0",
            "_model_name": "DescriptionStyleModel",
            "_view_count": null,
            "_view_module": "@jupyter-widgets/base",
            "_view_module_version": "1.2.0",
            "_view_name": "StyleView",
            "description_width": ""
          }
        },
        "d67f1831c4584e9e89cfd418c9fa527c": {
          "model_module": "@jupyter-widgets/base",
          "model_name": "LayoutModel",
          "model_module_version": "1.2.0",
          "state": {
            "_model_module": "@jupyter-widgets/base",
            "_model_module_version": "1.2.0",
            "_model_name": "LayoutModel",
            "_view_count": null,
            "_view_module": "@jupyter-widgets/base",
            "_view_module_version": "1.2.0",
            "_view_name": "LayoutView",
            "align_content": null,
            "align_items": null,
            "align_self": null,
            "border": null,
            "bottom": null,
            "display": null,
            "flex": null,
            "flex_flow": null,
            "grid_area": null,
            "grid_auto_columns": null,
            "grid_auto_flow": null,
            "grid_auto_rows": null,
            "grid_column": null,
            "grid_gap": null,
            "grid_row": null,
            "grid_template_areas": null,
            "grid_template_columns": null,
            "grid_template_rows": null,
            "height": null,
            "justify_content": null,
            "justify_items": null,
            "left": null,
            "margin": null,
            "max_height": null,
            "max_width": null,
            "min_height": null,
            "min_width": null,
            "object_fit": null,
            "object_position": null,
            "order": null,
            "overflow": null,
            "overflow_x": null,
            "overflow_y": null,
            "padding": null,
            "right": null,
            "top": null,
            "visibility": null,
            "width": null
          }
        },
        "0606bc232c57470191549a50ffc521c1": {
          "model_module": "@jupyter-widgets/controls",
          "model_name": "ProgressStyleModel",
          "model_module_version": "1.5.0",
          "state": {
            "_model_module": "@jupyter-widgets/controls",
            "_model_module_version": "1.5.0",
            "_model_name": "ProgressStyleModel",
            "_view_count": null,
            "_view_module": "@jupyter-widgets/base",
            "_view_module_version": "1.2.0",
            "_view_name": "StyleView",
            "bar_color": null,
            "description_width": ""
          }
        },
        "75ac48b4b8c04dcbb69cf4376a959880": {
          "model_module": "@jupyter-widgets/base",
          "model_name": "LayoutModel",
          "model_module_version": "1.2.0",
          "state": {
            "_model_module": "@jupyter-widgets/base",
            "_model_module_version": "1.2.0",
            "_model_name": "LayoutModel",
            "_view_count": null,
            "_view_module": "@jupyter-widgets/base",
            "_view_module_version": "1.2.0",
            "_view_name": "LayoutView",
            "align_content": null,
            "align_items": null,
            "align_self": null,
            "border": null,
            "bottom": null,
            "display": null,
            "flex": null,
            "flex_flow": null,
            "grid_area": null,
            "grid_auto_columns": null,
            "grid_auto_flow": null,
            "grid_auto_rows": null,
            "grid_column": null,
            "grid_gap": null,
            "grid_row": null,
            "grid_template_areas": null,
            "grid_template_columns": null,
            "grid_template_rows": null,
            "height": null,
            "justify_content": null,
            "justify_items": null,
            "left": null,
            "margin": null,
            "max_height": null,
            "max_width": null,
            "min_height": null,
            "min_width": null,
            "object_fit": null,
            "object_position": null,
            "order": null,
            "overflow": null,
            "overflow_x": null,
            "overflow_y": null,
            "padding": null,
            "right": null,
            "top": null,
            "visibility": null,
            "width": null
          }
        },
        "dbb1c39cefba448995a31fb1aa62e40c": {
          "model_module": "@jupyter-widgets/controls",
          "model_name": "DescriptionStyleModel",
          "model_module_version": "1.5.0",
          "state": {
            "_model_module": "@jupyter-widgets/controls",
            "_model_module_version": "1.5.0",
            "_model_name": "DescriptionStyleModel",
            "_view_count": null,
            "_view_module": "@jupyter-widgets/base",
            "_view_module_version": "1.2.0",
            "_view_name": "StyleView",
            "description_width": ""
          }
        },
        "a0dd9ae96bd44b90913f00a85fe3a435": {
          "model_module": "@jupyter-widgets/controls",
          "model_name": "HBoxModel",
          "model_module_version": "1.5.0",
          "state": {
            "_dom_classes": [],
            "_model_module": "@jupyter-widgets/controls",
            "_model_module_version": "1.5.0",
            "_model_name": "HBoxModel",
            "_view_count": null,
            "_view_module": "@jupyter-widgets/controls",
            "_view_module_version": "1.5.0",
            "_view_name": "HBoxView",
            "box_style": "",
            "children": [
              "IPY_MODEL_15ad7706c4ae4c8e9341c92fb1ba8839",
              "IPY_MODEL_a5bf6af692654ad0b60206a34c242b73",
              "IPY_MODEL_c3e3dae2988749d681326b5698a94c9f"
            ],
            "layout": "IPY_MODEL_15c6c17e6ffb4657aa94bf5a4eb5a427"
          }
        },
        "15ad7706c4ae4c8e9341c92fb1ba8839": {
          "model_module": "@jupyter-widgets/controls",
          "model_name": "HTMLModel",
          "model_module_version": "1.5.0",
          "state": {
            "_dom_classes": [],
            "_model_module": "@jupyter-widgets/controls",
            "_model_module_version": "1.5.0",
            "_model_name": "HTMLModel",
            "_view_count": null,
            "_view_module": "@jupyter-widgets/controls",
            "_view_module_version": "1.5.0",
            "_view_name": "HTMLView",
            "description": "",
            "description_tooltip": null,
            "layout": "IPY_MODEL_684c0dc042b842a2801c6b58f0315cd4",
            "placeholder": "​",
            "style": "IPY_MODEL_c3a9287e128d48cb89d4f88eacf6b580",
            "value": "Downloading (…)olve/main/merges.txt: 100%"
          }
        },
        "a5bf6af692654ad0b60206a34c242b73": {
          "model_module": "@jupyter-widgets/controls",
          "model_name": "FloatProgressModel",
          "model_module_version": "1.5.0",
          "state": {
            "_dom_classes": [],
            "_model_module": "@jupyter-widgets/controls",
            "_model_module_version": "1.5.0",
            "_model_name": "FloatProgressModel",
            "_view_count": null,
            "_view_module": "@jupyter-widgets/controls",
            "_view_module_version": "1.5.0",
            "_view_name": "ProgressView",
            "bar_style": "success",
            "description": "",
            "description_tooltip": null,
            "layout": "IPY_MODEL_16120d9aa51b4fef9d5a5a42941d196f",
            "max": 456318,
            "min": 0,
            "orientation": "horizontal",
            "style": "IPY_MODEL_53f164028da84a0abe1424ec82b09716",
            "value": 456318
          }
        },
        "c3e3dae2988749d681326b5698a94c9f": {
          "model_module": "@jupyter-widgets/controls",
          "model_name": "HTMLModel",
          "model_module_version": "1.5.0",
          "state": {
            "_dom_classes": [],
            "_model_module": "@jupyter-widgets/controls",
            "_model_module_version": "1.5.0",
            "_model_name": "HTMLModel",
            "_view_count": null,
            "_view_module": "@jupyter-widgets/controls",
            "_view_module_version": "1.5.0",
            "_view_name": "HTMLView",
            "description": "",
            "description_tooltip": null,
            "layout": "IPY_MODEL_2c4410fb95704295aac7c60f1112289d",
            "placeholder": "​",
            "style": "IPY_MODEL_b8acf1f307e549d597cc9fdbee17d6a1",
            "value": " 456k/456k [00:00&lt;00:00, 5.90MB/s]"
          }
        },
        "15c6c17e6ffb4657aa94bf5a4eb5a427": {
          "model_module": "@jupyter-widgets/base",
          "model_name": "LayoutModel",
          "model_module_version": "1.2.0",
          "state": {
            "_model_module": "@jupyter-widgets/base",
            "_model_module_version": "1.2.0",
            "_model_name": "LayoutModel",
            "_view_count": null,
            "_view_module": "@jupyter-widgets/base",
            "_view_module_version": "1.2.0",
            "_view_name": "LayoutView",
            "align_content": null,
            "align_items": null,
            "align_self": null,
            "border": null,
            "bottom": null,
            "display": null,
            "flex": null,
            "flex_flow": null,
            "grid_area": null,
            "grid_auto_columns": null,
            "grid_auto_flow": null,
            "grid_auto_rows": null,
            "grid_column": null,
            "grid_gap": null,
            "grid_row": null,
            "grid_template_areas": null,
            "grid_template_columns": null,
            "grid_template_rows": null,
            "height": null,
            "justify_content": null,
            "justify_items": null,
            "left": null,
            "margin": null,
            "max_height": null,
            "max_width": null,
            "min_height": null,
            "min_width": null,
            "object_fit": null,
            "object_position": null,
            "order": null,
            "overflow": null,
            "overflow_x": null,
            "overflow_y": null,
            "padding": null,
            "right": null,
            "top": null,
            "visibility": null,
            "width": null
          }
        },
        "684c0dc042b842a2801c6b58f0315cd4": {
          "model_module": "@jupyter-widgets/base",
          "model_name": "LayoutModel",
          "model_module_version": "1.2.0",
          "state": {
            "_model_module": "@jupyter-widgets/base",
            "_model_module_version": "1.2.0",
            "_model_name": "LayoutModel",
            "_view_count": null,
            "_view_module": "@jupyter-widgets/base",
            "_view_module_version": "1.2.0",
            "_view_name": "LayoutView",
            "align_content": null,
            "align_items": null,
            "align_self": null,
            "border": null,
            "bottom": null,
            "display": null,
            "flex": null,
            "flex_flow": null,
            "grid_area": null,
            "grid_auto_columns": null,
            "grid_auto_flow": null,
            "grid_auto_rows": null,
            "grid_column": null,
            "grid_gap": null,
            "grid_row": null,
            "grid_template_areas": null,
            "grid_template_columns": null,
            "grid_template_rows": null,
            "height": null,
            "justify_content": null,
            "justify_items": null,
            "left": null,
            "margin": null,
            "max_height": null,
            "max_width": null,
            "min_height": null,
            "min_width": null,
            "object_fit": null,
            "object_position": null,
            "order": null,
            "overflow": null,
            "overflow_x": null,
            "overflow_y": null,
            "padding": null,
            "right": null,
            "top": null,
            "visibility": null,
            "width": null
          }
        },
        "c3a9287e128d48cb89d4f88eacf6b580": {
          "model_module": "@jupyter-widgets/controls",
          "model_name": "DescriptionStyleModel",
          "model_module_version": "1.5.0",
          "state": {
            "_model_module": "@jupyter-widgets/controls",
            "_model_module_version": "1.5.0",
            "_model_name": "DescriptionStyleModel",
            "_view_count": null,
            "_view_module": "@jupyter-widgets/base",
            "_view_module_version": "1.2.0",
            "_view_name": "StyleView",
            "description_width": ""
          }
        },
        "16120d9aa51b4fef9d5a5a42941d196f": {
          "model_module": "@jupyter-widgets/base",
          "model_name": "LayoutModel",
          "model_module_version": "1.2.0",
          "state": {
            "_model_module": "@jupyter-widgets/base",
            "_model_module_version": "1.2.0",
            "_model_name": "LayoutModel",
            "_view_count": null,
            "_view_module": "@jupyter-widgets/base",
            "_view_module_version": "1.2.0",
            "_view_name": "LayoutView",
            "align_content": null,
            "align_items": null,
            "align_self": null,
            "border": null,
            "bottom": null,
            "display": null,
            "flex": null,
            "flex_flow": null,
            "grid_area": null,
            "grid_auto_columns": null,
            "grid_auto_flow": null,
            "grid_auto_rows": null,
            "grid_column": null,
            "grid_gap": null,
            "grid_row": null,
            "grid_template_areas": null,
            "grid_template_columns": null,
            "grid_template_rows": null,
            "height": null,
            "justify_content": null,
            "justify_items": null,
            "left": null,
            "margin": null,
            "max_height": null,
            "max_width": null,
            "min_height": null,
            "min_width": null,
            "object_fit": null,
            "object_position": null,
            "order": null,
            "overflow": null,
            "overflow_x": null,
            "overflow_y": null,
            "padding": null,
            "right": null,
            "top": null,
            "visibility": null,
            "width": null
          }
        },
        "53f164028da84a0abe1424ec82b09716": {
          "model_module": "@jupyter-widgets/controls",
          "model_name": "ProgressStyleModel",
          "model_module_version": "1.5.0",
          "state": {
            "_model_module": "@jupyter-widgets/controls",
            "_model_module_version": "1.5.0",
            "_model_name": "ProgressStyleModel",
            "_view_count": null,
            "_view_module": "@jupyter-widgets/base",
            "_view_module_version": "1.2.0",
            "_view_name": "StyleView",
            "bar_color": null,
            "description_width": ""
          }
        },
        "2c4410fb95704295aac7c60f1112289d": {
          "model_module": "@jupyter-widgets/base",
          "model_name": "LayoutModel",
          "model_module_version": "1.2.0",
          "state": {
            "_model_module": "@jupyter-widgets/base",
            "_model_module_version": "1.2.0",
            "_model_name": "LayoutModel",
            "_view_count": null,
            "_view_module": "@jupyter-widgets/base",
            "_view_module_version": "1.2.0",
            "_view_name": "LayoutView",
            "align_content": null,
            "align_items": null,
            "align_self": null,
            "border": null,
            "bottom": null,
            "display": null,
            "flex": null,
            "flex_flow": null,
            "grid_area": null,
            "grid_auto_columns": null,
            "grid_auto_flow": null,
            "grid_auto_rows": null,
            "grid_column": null,
            "grid_gap": null,
            "grid_row": null,
            "grid_template_areas": null,
            "grid_template_columns": null,
            "grid_template_rows": null,
            "height": null,
            "justify_content": null,
            "justify_items": null,
            "left": null,
            "margin": null,
            "max_height": null,
            "max_width": null,
            "min_height": null,
            "min_width": null,
            "object_fit": null,
            "object_position": null,
            "order": null,
            "overflow": null,
            "overflow_x": null,
            "overflow_y": null,
            "padding": null,
            "right": null,
            "top": null,
            "visibility": null,
            "width": null
          }
        },
        "b8acf1f307e549d597cc9fdbee17d6a1": {
          "model_module": "@jupyter-widgets/controls",
          "model_name": "DescriptionStyleModel",
          "model_module_version": "1.5.0",
          "state": {
            "_model_module": "@jupyter-widgets/controls",
            "_model_module_version": "1.5.0",
            "_model_name": "DescriptionStyleModel",
            "_view_count": null,
            "_view_module": "@jupyter-widgets/base",
            "_view_module_version": "1.2.0",
            "_view_name": "StyleView",
            "description_width": ""
          }
        }
      }
    }
  },
  "cells": [
    {
      "cell_type": "markdown",
      "metadata": {
        "id": "view-in-github",
        "colab_type": "text"
      },
      "source": [
        "<a href=\"https://colab.research.google.com/github/LakshaySaini02/YouTube-Transcript-Summariser-Lakshay/blob/main/youtube_transcript_summarizer_lakshay.ipynb\" target=\"_parent\"><img src=\"https://colab.research.google.com/assets/colab-badge.svg\" alt=\"Open In Colab\"/></a>"
      ]
    },
    {
      "cell_type": "code",
      "execution_count": 1,
      "metadata": {
        "colab": {
          "base_uri": "https://localhost:8080/"
        },
        "id": "VU8aH9RZbRTX",
        "outputId": "9cb54dc9-b6fc-4b21-8ade-414bf922d609"
      },
      "outputs": [
        {
          "output_type": "stream",
          "name": "stdout",
          "text": [
            "\u001b[2K     \u001b[90m━━━━━━━━━━━━━━━━━━━━━━━━━━━━━━━━━━━━━━━━\u001b[0m \u001b[32m7.6/7.6 MB\u001b[0m \u001b[31m48.1 MB/s\u001b[0m eta \u001b[36m0:00:00\u001b[0m\n",
            "\u001b[2K     \u001b[90m━━━━━━━━━━━━━━━━━━━━━━━━━━━━━━━━━━━━━━\u001b[0m \u001b[32m295.0/295.0 kB\u001b[0m \u001b[31m22.8 MB/s\u001b[0m eta \u001b[36m0:00:00\u001b[0m\n",
            "\u001b[2K     \u001b[90m━━━━━━━━━━━━━━━━━━━━━━━━━━━━━━━━━━━━━━━━\u001b[0m \u001b[32m7.8/7.8 MB\u001b[0m \u001b[31m91.3 MB/s\u001b[0m eta \u001b[36m0:00:00\u001b[0m\n",
            "\u001b[2K     \u001b[90m━━━━━━━━━━━━━━━━━━━━━━━━━━━━━━━━━━━━━━━━\u001b[0m \u001b[32m1.3/1.3 MB\u001b[0m \u001b[31m62.8 MB/s\u001b[0m eta \u001b[36m0:00:00\u001b[0m\n",
            "\u001b[?25h"
          ]
        }
      ],
      "source": [
        "!pip install -q transformers"
      ]
    },
    {
      "cell_type": "code",
      "source": [
        "!pip install -q youtube_transcript_api"
      ],
      "metadata": {
        "id": "XzPc7YT2bqyk"
      },
      "execution_count": 6,
      "outputs": []
    },
    {
      "cell_type": "code",
      "source": [
        "from transformers import pipeline\n",
        "from youtube_transcript_api import YouTubeTranscriptApi"
      ],
      "metadata": {
        "id": "ju7VsnVIb3ki"
      },
      "execution_count": 7,
      "outputs": []
    },
    {
      "cell_type": "code",
      "source": [
        "youtube_video = \"https://www.youtube.com/watch?v=KG5YFfR0j8A&list=PLgUwDviBIf0oE3gA41TKO2H5bHpPd7fzn&index=18\"\n"
      ],
      "metadata": {
        "id": "Z4NwNDLvcb4N"
      },
      "execution_count": 8,
      "outputs": []
    },
    {
      "cell_type": "code",
      "source": [
        "video_id = youtube_video.split(\"=\")[1]\n"
      ],
      "metadata": {
        "id": "RJlxr3MfcktU"
      },
      "execution_count": 9,
      "outputs": []
    },
    {
      "cell_type": "code",
      "source": [
        "video_id"
      ],
      "metadata": {
        "colab": {
          "base_uri": "https://localhost:8080/",
          "height": 36
        },
        "id": "CBmUPvAtcm8D",
        "outputId": "c81b0ed8-a5c3-4eee-cb7b-ab37994b8924"
      },
      "execution_count": 10,
      "outputs": [
        {
          "output_type": "execute_result",
          "data": {
            "text/plain": [
              "'KG5YFfR0j8A&list'"
            ],
            "application/vnd.google.colaboratory.intrinsic+json": {
              "type": "string"
            }
          },
          "metadata": {},
          "execution_count": 10
        }
      ]
    },
    {
      "cell_type": "code",
      "source": [
        "from IPython.display import YouTubeVideo\n",
        "YouTubeVideo(video_id)"
      ],
      "metadata": {
        "colab": {
          "base_uri": "https://localhost:8080/",
          "height": 322
        },
        "id": "nY7UYfktcrlK",
        "outputId": "2ee65b5e-e68b-4635-ce61-aff366e0012a"
      },
      "execution_count": 12,
      "outputs": [
        {
          "output_type": "execute_result",
          "data": {
            "text/plain": [
              "<IPython.lib.display.YouTubeVideo at 0x7b5f42c46ec0>"
            ],
            "text/html": [
              "\n",
              "        <iframe\n",
              "            width=\"400\"\n",
              "            height=\"300\"\n",
              "            src=\"https://www.youtube.com/embed/KG5YFfR0j8A&list\"\n",
              "            frameborder=\"0\"\n",
              "            allowfullscreen\n",
              "            \n",
              "        ></iframe>\n",
              "        "
            ]
          },
          "metadata": {},
          "execution_count": 12
        }
      ]
    },
    {
      "cell_type": "code",
      "source": [
        "YouTubeTranscriptApi.get_transcript(video_id)\n",
        "transcript = YouTubeTranscriptApi.get_transcript(video_id)"
      ],
      "metadata": {
        "id": "xiPVA2CPczrd"
      },
      "execution_count": 13,
      "outputs": []
    },
    {
      "cell_type": "code",
      "source": [
        "transcript[0:2]"
      ],
      "metadata": {
        "colab": {
          "base_uri": "https://localhost:8080/"
        },
        "id": "L7ygVXd2c2Oi",
        "outputId": "5d315f77-b475-4da3-aef5-04922c745d63"
      },
      "execution_count": 14,
      "outputs": [
        {
          "output_type": "execute_result",
          "data": {
            "text/plain": [
              "[{'text': 'hey everyone welcome back to the channel',\n",
              "  'start': 3.199,\n",
              "  'duration': 3.441},\n",
              " {'text': 'i hope you guys are doing extremely well',\n",
              "  'start': 4.799,\n",
              "  'duration': 3.441}]"
            ]
          },
          "metadata": {},
          "execution_count": 14
        }
      ]
    },
    {
      "cell_type": "code",
      "source": [
        "res = \"\"\n",
        "for i in transcript:\n",
        "    res += ' ' + i['text']\n",
        "#print(res)\n",
        "print(len(res))"
      ],
      "metadata": {
        "colab": {
          "base_uri": "https://localhost:8080/"
        },
        "id": "I0rZ2zomc7sj",
        "outputId": "ea97e058-2c16-44fd-f4a2-f599518b772c"
      },
      "execution_count": 15,
      "outputs": [
        {
          "output_type": "stream",
          "name": "stdout",
          "text": [
            "13684\n"
          ]
        }
      ]
    },
    {
      "cell_type": "code",
      "source": [
        "summarizer = pipeline('summarization')"
      ],
      "metadata": {
        "colab": {
          "base_uri": "https://localhost:8080/",
          "height": 212,
          "referenced_widgets": [
            "8291f76676694ec9a226fd7458a43229",
            "92af600013d24e91b7ad2fffb839ad47",
            "78b6d5c1f8ea4e89b96a209c4c0ae4c2",
            "f26725567dc8458c9163eb79e540dfa9",
            "7f5a0cea24bb4ad4a203951efb1142da",
            "36ae4f6e9780445ea0ac7ce85bfbb336",
            "6cf9c50041294fa98f12109367f9c099",
            "cf6442bb88004926a4a66ccfd3326e94",
            "140b06fa71a541c08f95d241daf45f37",
            "4d0e44d8c20e419ebc6fc109fe88c8f0",
            "cc2dc0baab724757ac8756f55cce31c1",
            "d8e3d9bd6e524785ab0119a4dcc2c71f",
            "3907d469e4c149f8bf25330ea7bed1a6",
            "7b926f77cf504388ad63b2178398d605",
            "77c5d8a78fe04da39ffa48c43b8e51bc",
            "dbd0fe0206c0472ab4c191b2d8f303a4",
            "3336fc92fc2d4177a904d2654e01e270",
            "96fc9a7958674648b5975cb5234106e2",
            "7dfb526778a349ad8a55de7c641d6d4a",
            "c6b211b491a04cc19a7f7252e036229b",
            "5269286c1cc74c9b9772451718461eb7",
            "edd69eec2ee24e158392d7797de6a1a1",
            "f9bd22eb80c8406687a35152fd33e8ed",
            "e17b9bd5816d4e38a481f04e2b41cc0b",
            "94a21b3652f44a3483ad5c37d29d6c3f",
            "50dbfe3303454a1a8f35488fe43e835b",
            "7339f639c1264afa99795d6f5848e682",
            "fede757743fb4c52a8d224c7b215409a",
            "89595bf9a6fa4e048ebdd6604368aeb6",
            "568d7f0cfe6449c8b50be2bcef5475cd",
            "2137ccba5e1b47b4afdaa4fb342f07ee",
            "c4d942c2f686418dad26066145c102ba",
            "c994797937634f9fa6acbeea32a7333b",
            "06673025a3be4591806afe0dad4099ed",
            "56c27b3689ab40a09a2ece580b3c406f",
            "effe1e6ea865467db62f98c90ade5624",
            "a194de10fa284c06b2e02b9d68c25c19",
            "1863846557a048d6b33ceda80a309567",
            "dec66a7121804c75998415560f83acc5",
            "bbe70e011c70408a89aff493409579b6",
            "d67f1831c4584e9e89cfd418c9fa527c",
            "0606bc232c57470191549a50ffc521c1",
            "75ac48b4b8c04dcbb69cf4376a959880",
            "dbb1c39cefba448995a31fb1aa62e40c",
            "a0dd9ae96bd44b90913f00a85fe3a435",
            "15ad7706c4ae4c8e9341c92fb1ba8839",
            "a5bf6af692654ad0b60206a34c242b73",
            "c3e3dae2988749d681326b5698a94c9f",
            "15c6c17e6ffb4657aa94bf5a4eb5a427",
            "684c0dc042b842a2801c6b58f0315cd4",
            "c3a9287e128d48cb89d4f88eacf6b580",
            "16120d9aa51b4fef9d5a5a42941d196f",
            "53f164028da84a0abe1424ec82b09716",
            "2c4410fb95704295aac7c60f1112289d",
            "b8acf1f307e549d597cc9fdbee17d6a1"
          ]
        },
        "id": "KSNB57p-c_dC",
        "outputId": "d9e509a3-5fd4-4aa5-96fc-4ea6ab4691bd"
      },
      "execution_count": 16,
      "outputs": [
        {
          "output_type": "stream",
          "name": "stderr",
          "text": [
            "No model was supplied, defaulted to sshleifer/distilbart-cnn-12-6 and revision a4f8f3e (https://huggingface.co/sshleifer/distilbart-cnn-12-6).\n",
            "Using a pipeline without specifying a model name and revision in production is not recommended.\n"
          ]
        },
        {
          "output_type": "display_data",
          "data": {
            "text/plain": [
              "Downloading (…)lve/main/config.json:   0%|          | 0.00/1.80k [00:00<?, ?B/s]"
            ],
            "application/vnd.jupyter.widget-view+json": {
              "version_major": 2,
              "version_minor": 0,
              "model_id": "8291f76676694ec9a226fd7458a43229"
            }
          },
          "metadata": {}
        },
        {
          "output_type": "display_data",
          "data": {
            "text/plain": [
              "Downloading pytorch_model.bin:   0%|          | 0.00/1.22G [00:00<?, ?B/s]"
            ],
            "application/vnd.jupyter.widget-view+json": {
              "version_major": 2,
              "version_minor": 0,
              "model_id": "d8e3d9bd6e524785ab0119a4dcc2c71f"
            }
          },
          "metadata": {}
        },
        {
          "output_type": "display_data",
          "data": {
            "text/plain": [
              "Downloading (…)okenizer_config.json:   0%|          | 0.00/26.0 [00:00<?, ?B/s]"
            ],
            "application/vnd.jupyter.widget-view+json": {
              "version_major": 2,
              "version_minor": 0,
              "model_id": "f9bd22eb80c8406687a35152fd33e8ed"
            }
          },
          "metadata": {}
        },
        {
          "output_type": "display_data",
          "data": {
            "text/plain": [
              "Downloading (…)olve/main/vocab.json:   0%|          | 0.00/899k [00:00<?, ?B/s]"
            ],
            "application/vnd.jupyter.widget-view+json": {
              "version_major": 2,
              "version_minor": 0,
              "model_id": "06673025a3be4591806afe0dad4099ed"
            }
          },
          "metadata": {}
        },
        {
          "output_type": "display_data",
          "data": {
            "text/plain": [
              "Downloading (…)olve/main/merges.txt:   0%|          | 0.00/456k [00:00<?, ?B/s]"
            ],
            "application/vnd.jupyter.widget-view+json": {
              "version_major": 2,
              "version_minor": 0,
              "model_id": "a0dd9ae96bd44b90913f00a85fe3a435"
            }
          },
          "metadata": {}
        }
      ]
    },
    {
      "cell_type": "code",
      "source": [
        "num_iters = int(len(res)/1000)\n",
        "summarized_text = []\n",
        "for i in range(0, num_iters + 1):\n",
        "  start = 0\n",
        "  start = i * 1000\n",
        "  end = (i + 1) * 1000\n",
        "  print(\"input text \\n\" + res[start:end])\n",
        "  out = summarizer(res[start:end])\n",
        "  out = out[0]\n",
        "  out = out['summary_text']\n",
        "  print(\"Summarized text\\n\"+out)\n",
        "  summarized_text.append(out)"
      ],
      "metadata": {
        "colab": {
          "base_uri": "https://localhost:8080/"
        },
        "id": "qhfk-soTdIhw",
        "outputId": "6d56a036-f186-4adc-a262-79b6ab475c5b"
      },
      "execution_count": 17,
      "outputs": [
        {
          "output_type": "stream",
          "name": "stdout",
          "text": [
            "input text \n",
            " hey everyone welcome back to the channel i hope you guys are doing extremely well so in this video we are going to learn about bipartite graph and we are going to uh check if a graph is bipartite or not using the dfs algorithm which is the depth first search now what is the definition of a bipartite graph given a graph a graph that can be colored with exactly two colors exactly two colors such that no two adjacent nodes have the same color very very important you are given two colors you need to use those two colors to color a graph such that no two adjacent nodes have the same color very very important the two colors can be anything black white yellow green or whatever so let's take yellow and green now if i take this particular graph and try to color it so yellow obviously this is the adjacent node we cannot color it with yellow because yellow and yellow will have two adjacent nodes thereby we have to give it the opposite color green then the next one will definitely have the opposi\n",
            "Summarized text\n",
            " The definition of a bipartite graph is a graph that can be colored with exactly two colors such that no two adjacent nodes have the same color . The two colors can be anything black white yellow yellow green or whatever so let's take yellow and green now if i take this particular graph and try to color it so yellow obviously this is the adjacent node we cannot color it with yellow because yellow and yellow will have two adjacent .\n",
            "input text \n",
            "te yellow then the next one will have green the next one will have yellow the next one will have green right so if you see all of them are opposite and none of the adjacent nodes are having the same color now if we if we go this direction this will be given a yellow if we go the other this will be green again this will be yellow if you see the entire graph i took two colors yellow and green and i was able to color the graph in two different colors and if you carefully see every two adjacent notes yes every two adjacent notes are having different colors yes every two adjacent notes are having different color but if i take this particular graph so what i can say is this graph is a bipartite graphics i can call this graph as a bipartite graph at the same time if i check this out and i take the same color yellow and green yellow obviously the adjacent will be opposite green yellow green yellow green this is green so this will be yellow this is yellow so this will be green so if i follow th\n",
            "Summarized text\n",
            " Every two adjacent notes are having different colors in a bipartite graph . If you see the entire graph all of them are opposite and none of the adjacent nodes are having the same color now if we if we go this direction this will be given a yellow . If we go the other this . will be green again this will . be yellow again and if i follow th. te yellow then the next one will have green . the next . one has yellow . the other has yellow and green .\n",
            "input text \n",
            "is these two adjacent nodes are having different colors but at the same time if you see these uh these two adjacent nodes are having green color so thereby this graph cannot be colored you can try any other possibilities this graph cannot be colored with two colors because you will end up either having this or this same colors now the reason for that is very simple because it was a even lens cycle sorry odd length one two three four five if you uh see the length of the cycle it was odd so if a graph has a odd length cycle it will never be viper tight remember this if a graph has odd length cycle then it cannot be bipartite apart from that if you see this one one two three four five six so the length of this is six and if i see this is an even length this is an even length and this is a bipartite graphics and this is a bipartite graph similarly any linear length graph any linear length like if you give something like this and like this and like this then like this this is a bipartite be\n",
            "Summarized text\n",
            " This graph cannot be colored with two colors because you will end up either having this or this same colors now the reason for that is very simple because it was a even lens cycle sorry odd length one two three four five if you uh see the length of the cycle it was odd so if a graph has a odd length cycle it will never be viper tight remember this .\n",
            "input text \n",
            "cause you can grow like blue green blue green you can color it so anything apart from a like any graph which does not contain an odd lens cycle are bipartite and any graph that contains the order cycle cannot be bipartite a simple definition of the bipartite graph so we will be taking this graph and the algorithm that we will be applying is dfs you know every graph can be represented in terms of adjacency list so this is the particular adjacency list for the graph and we are assuming that this graph has one component if we are able to solve it for one component we can definitely solve it for multiple components right now in dfs algorithm we always have a start node so we can assume the start node to be one you can take it to be eight you can take it to be four whichever you wish to and we always have a visited matrix uh sorry visited array but over here what we will do is we will take a color array and of the same size of the number of notes and we will make sure everyone is initially \n",
            "Summarized text\n",
            " The algorithm that we will be applying is dfs you know every graph can be represented in terms of adjacency list . We are assuming that this graph has one component and we are able to solve it for one component . Any graph that does not contain an odd lens cycle are bipartite .\n",
            "input text \n",
            "colored with -1 which means none of the notes are colored and the colors that we will use to color the notes are 0 and 1 these can be like yellow and green so 0 and one so this is the graph so initially what you do is you call the dfs function yes initially you call the dfs function from one right and the moment you call it from one just make sure like you can just have it something like this you can pass the color that you want to color it with and pass the color zero so dfs of one zero so the so the moment the call comes in for dfs of one and the color zero it goes to the position one and says can you color it with the color zero and he's like yeah fine i can color it with the color zero so we have done it and now what we will see is who are the adjacent notes of one and we see that there is only one so what you do is you call it for two yes you call it for two now is two colored two is not colored so you call it for 2 and which color will you give to it'll obviously give the opposit\n",
            "Summarized text\n",
            " The colors that we will use to color the notes are 0 and 1 these can be like yellow and green so 0 and one so this is the graph . colored with -1 which means none of the . notes are colored and the colors that . we will . use are 0, 1 and 1 and the . color zero so dfs of one zero is called dfs and the color zero goes to the position one and says can you color it with the color .\n",
            "input text \n",
            "e color to what was of zero so you'll give it the opposite color which is one so you get the opposite color that is one so as of may you'll go to two so you'll have a color one so let's color it with one now you go to two and what the adjacent notes the first adjacent node is one and you see that it is already colored with the color zero right and this was colored with color one so it's an adjacent node and it is colored with a different color so that is okay it is already colored with a different color so i will not go there and the next is three so i see the next is three so what i'll do is i will go to three and i'll give it the opposite color and what is the opposite color zero so now you go to three and you say the color is zero and have it a color zero perfect so dfs call for three comes in and the first node that it sees is two so three sees that the first adjacent node is two as checks that okay my color is zero and the adjacent colors is one so it is perfect but it is already \n",
            "Summarized text\n",
            " e color to what was of zero so you'll give it the opposite color which is one so you get the opposite that is one . As of may you'll go to two and what the adjacent notes the first adjacent node is one and you see that it is already colored with the color zero right and this was colored with color one .\n",
            "input text \n",
            "colored so i will not go and visit it perfect next we have a 4 and we see that it is not colored so what we will do is we will have a dfs call for 4 with the opposite color which is 1 so 4 will be colored with one now perfect next we have a dfs four and dfs four has a three dfs four has a three and the four has a color one and the three has a color zero it has an opposite color but it has been already colored so i will not go here the next adjacent node is five and the next is seven so probably uh let's go for seven first and then we can go for five just to uh have a better understanding of the dfs i'll go i'll just change it over here we'll have seven first and then five so the next node is seven so what i will do is i will now go to dfs of seven with the color zero and when i come back then i'll go to the dfs of five with the color zero because this is color one so we'll go to color zero this is color one so it'll go to color zero so dfs of four says i'll go to seven with the color z\n",
            "Summarized text\n",
            " The next adjacent node is five and the next is seven so probably uh let's go for seven first and then we can go for five just to have a better understanding of the dfs i'll go i'll just change it over here we'll have seven first, then five so the next node is seven .\n",
            "input text \n",
            "ero it's like fine go to seven with the color zero right and now 7 says i have 4 which is already colored and i have 8 which is not color so please go to 8 and color it with the opposite color it's a dfs of 8 with a color 1 so 8 goes and colors that with color one by the way just make sure you make mark the colors perfect now eight says i just have one guy seven eight says i just have one guy seven and that guy is already colored with zero which is my opposite color so that's okay so 8 says i do not have any further notes 8 says i do not have any further notes so what a does is 8 says fine from my end i did not have any problem i came up to 8 and i did not find any problem to color the graph with only two colors i had absolutely no problem so please go back so it will go back seven says okay fine my job is done because i don't have any further just notes go back now four says i had a call for seven which is over and they did not find any problem so i will now go for five perfect now i \n",
            "Summarized text\n",
            " ero it's like fine go to seven with the color zero right and now 7 says i have 4 which is already colored and i have 8 which is not color so please go to 8 and color it with the opposite color it's a dfs of 8 with a color 1 so 8 goes and colors that with color one by the way just make sure you make mark the colors perfect now 8 says i do not have any further notes .\n",
            "input text \n",
            "will go for five so you realize there was one node which got completed then you do the dfs for five now we will go for five so what will happen is you'll go to five and you'll have a color zero the five sees okay i have a color zero now when you come to five five has the adjacent node as four which is already colored with color one that's perfect opposite color and a five has a six so we will go to six now let's go to six so we will go to six with the opposite color of one so we go and mark it as one we mark this as one perfect now we are at six so six says my first adjacent node is two very important six says my first adjacent node is two and i see it's already colored but dude wait it has been colored with the same color it has been colored with the same color i got an adjacent note i got an adjacent node with the same colour that means it is a bipartite yes sorry that means it is not a bipartite it cannot be colored so six is hey when i was checking for two when i was checking for t\n",
            "Summarized text\n",
            " Five has the adjacent node as four which is already colored with color one that's perfect opposite color and a five has a six so we will go to six with the opposite color of one so we go and mark it as one perfect now we are at six so six says my first adjacent node is two .\n",
            "input text \n",
            "wo it has the same color as i do have so it is not a wiper type he says hey can you please return false so this dfs is i called for sex that guy is saying me i cannot be bipartite so i also cannot be bipartite so he returns a false now the four says i called dfs of five and that guy says he cannot be bipartite so be like i also cannot be bipartite the three says i called four so i cannot be viper tight two says i call three so i cannot be bipartite one says i call two and he says paul so i say false so everyone says false so ultimately you get the reason or you get the validation as false that this is not a piper type i hope that makes sense now if you would have done a normal dfs where you would have let's say take this graph super simple so what would have happened was you'd have gone dfs of one color zero and then you would have gone dfs of two color one they would have gone for dfs of three color zero and then there was no other notes so apparently this guy would have returned true\n",
            "Summarized text\n",
            " This is not a wiper type he says hey can you please return false so this dfs is i called for sex . The four says i called dfs of five and that guy says he cannot be bipartite so he returns a false . The three says i call four so i cannot be viper tight. the three says  so i can't be vipers tight. Two says they call three so i call three . One says he calls two and he says paul so i say false so i says false .\n",
            "input text \n",
            " and this guy would have said i did not find false so return true this guy would have said i did not find false so return true so apparently you would have got true so unless and until very important unless and until you don't get a false do not return a false if you're getting a false which means the adjacent node color should be equal to this guy's color this guy's color right that is what you need to do so now what i'll do is i'll super quickly code this up so it's time to code it up c plus plus code on the right and the java code on the left so we're given v and we're given adjacency list so what we wrote was for a single like the logic that we debugged was for a single component so we're gonna write this for multiple components okay perfect next please run a loop and make sure everyone yes every one is marked as something as minus one but done now what's the next thing that you'll do you'll run it for components so you know how to run it for components connected components number \n",
            "Summarized text\n",
            " The logic that we debugged was for a single component so we're gonna write this for multiple components okay perfect next please run a loop and make sure everyone yes every one is marked as something as minus one but done now what's the next thing that you'll do you'll run it for components .\n",
            "input text \n",
            "of provinces question if you haven't seen it please go back and check it out so visit it off sorry it's instead of visited this time we'll say color of i equal to minus one right and what we will do is we will call the dfs and we will ask the dfs hey this is i start with color zero take the color array and take the adjacency okay and if you return a false then i guess it's not an appetite if you return a false if this dfs i said you if any of the defense returns or false it cannot be a byproduct if none of them do it's a true perfect done now we just need to write the bfs which is kind of simple we just need to write boolean dfs ind node id color which color is it carrying and the vector of adjacency now what we will do we'll always color the node with the given color so please do it now we know these are the adjacency notes so go and run it for the adjacency notes and you check is this previously not colored if this is previously not colored you say okay please go and color it with th\n",
            "Summarized text\n",
            " of provinces question if you haven't seen it please go back and check it out so visit it off . Visit it off sorry it's instead of visited this time we'll say color of i equal to minus one right and what we will do is we will call the dfs . We just need to write the bfs which is kind of simple . We need to use a simple dfs ind node id color which color is it carrying and the vector of adjacency .\n",
            "input text \n",
            "e opposite color of the color that i have but if this is previously colored this adjacent node is previously colored very very important if this adjacent node is previously colored and is having the same color as i have or you can say call if it is if it is then i say it cannot be of bipartite or if you have travis for all the adjusted notes and you never found out any false you get a true so this is a dfs call as i said if any of the dfs calls return or false because this call might return or false might then you say cannot be a hypertype if this dfs call returns or false don't need to check by any of the notes you cannot color it so this is how you can easily write so what i'll do is i'll now quickly compile this on so now let's discuss the time complexity and the space complexity which algorithm are we using we're using a simple tfs algorithm assuming that the graph is bipartite and you can color it then it's a simple traversal algorithm so the time complexity and the space complexi\n",
            "Summarized text\n",
            " The time complexity and the space complexity are we using we're using a simple tfs algorithm assuming that the graph is bipartite and you can color it then it's a simple traversal algorithm . i'll do is i'll now quickly compile this on so now let's discuss the time complexity .\n",
            "input text \n",
            "ty will be similar to what we used in dfs algorithm which is b go of v plus 2 e which is the time complexity and the space that we are using is the color array which is b co of v so guys i hope i was able to explain you this particular problem so just in case i was please please hit that like button and if you're new to our channel what are you waiting for i think you should hit that subscribe button right away and if you haven't checked out our dp series and the sd sheet the links are in the description please make sure you check it out and with this i'll be wrapping up this video let's meet in some other video till then go bye take care whenever your heart is broken [Music]\n",
            "Summarized text\n",
            " Ty will be similar to what we used in dfs algorithm which is b go of v plus 2 e which is the time complexity and the space that we are using is the color array which is a b co of v so just in case i was able to explain you this particular problem . If you're new to our channel what are you waiting for i think you should hit that subscribe button right away .\n"
          ]
        }
      ]
    },
    {
      "cell_type": "code",
      "source": [
        "len(str(summarized_text))"
      ],
      "metadata": {
        "colab": {
          "base_uri": "https://localhost:8080/"
        },
        "id": "55NyRmgxfVMl",
        "outputId": "2dc98bcd-6f06-48cd-bd7c-467b411d5956"
      },
      "execution_count": 18,
      "outputs": [
        {
          "output_type": "execute_result",
          "data": {
            "text/plain": [
              "4919"
            ]
          },
          "metadata": {},
          "execution_count": 18
        }
      ]
    },
    {
      "cell_type": "code",
      "source": [
        "str(summarized_text)"
      ],
      "metadata": {
        "colab": {
          "base_uri": "https://localhost:8080/",
          "height": 123
        },
        "id": "C11brTBLfeS3",
        "outputId": "30a84c4d-d59c-44f6-c19e-8d3245c408d8"
      },
      "execution_count": 19,
      "outputs": [
        {
          "output_type": "execute_result",
          "data": {
            "text/plain": [
              "'[\" The definition of a bipartite graph is a graph that can be colored with exactly two colors such that no two adjacent nodes have the same color . The two colors can be anything black white yellow yellow green or whatever so let\\'s take yellow and green now if i take this particular graph and try to color it so yellow obviously this is the adjacent node we cannot color it with yellow because yellow and yellow will have two adjacent .\", \\' Every two adjacent notes are having different colors in a bipartite graph . If you see the entire graph all of them are opposite and none of the adjacent nodes are having the same color now if we if we go this direction this will be given a yellow . If we go the other this . will be green again this will . be yellow again and if i follow th. te yellow then the next one will have green . the next . one has yellow . the other has yellow and green .\\', \\' This graph cannot be colored with two colors because you will end up either having this or this same colors now the reason for that is very simple because it was a even lens cycle sorry odd length one two three four five if you uh see the length of the cycle it was odd so if a graph has a odd length cycle it will never be viper tight remember this .\\', \\' The algorithm that we will be applying is dfs you know every graph can be represented in terms of adjacency list . We are assuming that this graph has one component and we are able to solve it for one component . Any graph that does not contain an odd lens cycle are bipartite .\\', \\' The colors that we will use to color the notes are 0 and 1 these can be like yellow and green so 0 and one so this is the graph . colored with -1 which means none of the . notes are colored and the colors that . we will . use are 0, 1 and 1 and the . color zero so dfs of one zero is called dfs and the color zero goes to the position one and says can you color it with the color .\\', \" e color to what was of zero so you\\'ll give it the opposite color which is one so you get the opposite that is one . As of may you\\'ll go to two and what the adjacent notes the first adjacent node is one and you see that it is already colored with the color zero right and this was colored with color one .\", \" The next adjacent node is five and the next is seven so probably uh let\\'s go for seven first and then we can go for five just to have a better understanding of the dfs i\\'ll go i\\'ll just change it over here we\\'ll have seven first, then five so the next node is seven .\", \" ero it\\'s like fine go to seven with the color zero right and now 7 says i have 4 which is already colored and i have 8 which is not color so please go to 8 and color it with the opposite color it\\'s a dfs of 8 with a color 1 so 8 goes and colors that with color one by the way just make sure you make mark the colors perfect now 8 says i do not have any further notes .\", \" Five has the adjacent node as four which is already colored with color one that\\'s perfect opposite color and a five has a six so we will go to six with the opposite color of one so we go and mark it as one perfect now we are at six so six says my first adjacent node is two .\", \" This is not a wiper type he says hey can you please return false so this dfs is i called for sex . The four says i called dfs of five and that guy says he cannot be bipartite so he returns a false . The three says i call four so i cannot be viper tight. the three says  so i can\\'t be vipers tight. Two says they call three so i call three . One says he calls two and he says paul so i say false so i says false .\", \" The logic that we debugged was for a single component so we\\'re gonna write this for multiple components okay perfect next please run a loop and make sure everyone yes every one is marked as something as minus one but done now what\\'s the next thing that you\\'ll do you\\'ll run it for components .\", \" of provinces question if you haven\\'t seen it please go back and check it out so visit it off . Visit it off sorry it\\'s instead of visited this time we\\'ll say color of i equal to minus one right and what we will do is we will call the dfs . We just need to write the bfs which is kind of simple . We need to use a simple dfs ind node id color which color is it carrying and the vector of adjacency .\", \" The time complexity and the space complexity are we using we\\'re using a simple tfs algorithm assuming that the graph is bipartite and you can color it then it\\'s a simple traversal algorithm . i\\'ll do is i\\'ll now quickly compile this on so now let\\'s discuss the time complexity .\", \" Ty will be similar to what we used in dfs algorithm which is b go of v plus 2 e which is the time complexity and the space that we are using is the color array which is a b co of v so just in case i was able to explain you this particular problem . If you\\'re new to our channel what are you waiting for i think you should hit that subscribe button right away .\"]'"
            ],
            "application/vnd.google.colaboratory.intrinsic+json": {
              "type": "string"
            }
          },
          "metadata": {},
          "execution_count": 19
        }
      ]
    }
  ]
}